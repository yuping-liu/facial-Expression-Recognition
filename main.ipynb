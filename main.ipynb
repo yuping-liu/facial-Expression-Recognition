{
 "cells": [
  {
   "cell_type": "code",
   "execution_count": null,
   "metadata": {},
   "outputs": [],
   "source": [
    "!git clone https://github.com/ultralytics/yolov5\n",
    "%cd yolov5\n",
    "%pip install -qr requirements.txt\n",
    "%pip install -q roboflow\n",
    "\n",
    "import torch\n",
    "import os\n",
    "from IPython.display import Image, clear_output"
   ]
  },
  {
   "cell_type": "code",
   "execution_count": null,
   "metadata": {},
   "outputs": [],
   "source": [
    "\n",
    "from roboflow import Roboflow\n",
    "rf = Roboflow(api_key=\"qgIhyGbUIBnf8xR20Djm\")\n",
    "project = rf.workspace(\"adalrhman\").project(\"facial-emotion-trpg7\")\n",
    "version = project.version(1)\n",
    "dataset = version.download(\"yolov5\")\n",
    "                "
   ]
  },
  {
   "cell_type": "code",
   "execution_count": 2,
   "metadata": {},
   "outputs": [
    {
     "name": "stdout",
     "output_type": "stream",
     "text": [
      "d:\\code\\python\\facial-Expression-Recognition\\yolov5\n"
     ]
    },
    {
     "name": "stderr",
     "output_type": "stream",
     "text": [
      "d:\\miniconda3\\envs\\daily\\lib\\site-packages\\IPython\\core\\magics\\osm.py:417: UserWarning: This is now an optional IPython functionality, setting dhist requires you to install the `pickleshare` library.\n",
      "  self.shell.db['dhist'] = compress_dhist(dhist)[-100:]\n"
     ]
    }
   ],
   "source": [
    "cd yolov5/"
   ]
  },
  {
   "cell_type": "code",
   "execution_count": 5,
   "metadata": {},
   "outputs": [
    {
     "name": "stderr",
     "output_type": "stream",
     "text": [
      "\u001b[34m\u001b[1mtrain: \u001b[0mweights=yolov5s.pt, cfg=, data=D:/code/python/facial-Expression-Recognition/Facial-Emotion-1, hyp=data\\hyps\\hyp.scratch-low.yaml, epochs=150, batch_size=16, imgsz=320, rect=False, resume=False, nosave=False, noval=False, noautoanchor=False, noplots=False, evolve=None, evolve_population=data\\hyps, resume_evolve=None, bucket=, cache=ram, image_weights=False, device=, multi_scale=False, single_cls=False, optimizer=SGD, sync_bn=False, workers=8, project=runs\\train, name=exp, exist_ok=False, quad=False, cos_lr=False, label_smoothing=0.0, patience=100, freeze=[0], save_period=-1, seed=0, local_rank=-1, entity=None, upload_dataset=False, bbox_interval=-1, artifact_alias=latest, ndjson_console=False, ndjson_file=False\n",
      "\u001b[34m\u001b[1mgithub: \u001b[0mup to date with https://github.com/ultralytics/yolov5 \n",
      "Traceback (most recent call last):\n",
      "  File \"d:\\code\\python\\facial-Expression-Recognition\\yolov5\\train.py\", line 986, in <module>\n",
      "    main(opt)\n",
      "  File \"d:\\code\\python\\facial-Expression-Recognition\\yolov5\\train.py\", line 656, in main\n",
      "    check_file(opt.data),\n",
      "  File \"d:\\code\\python\\facial-Expression-Recognition\\yolov5\\utils\\general.py\", line 507, in check_file\n",
      "    assert len(files) == 1, f\"Multiple files match '{file}', specify exact path: {files}\"  # assert unique\n",
      "AssertionError: Multiple files match 'D:/code/python/facial-Expression-Recognition/Facial-Emotion-1', specify exact path: ['D:\\\\code\\\\python\\\\facial-Expression-Recognition\\\\Facial-Emotion-1', 'D:\\\\code\\\\python\\\\facial-Expression-Recognition\\\\Facial-Emotion-1', 'D:\\\\code\\\\python\\\\facial-Expression-Recognition\\\\Facial-Emotion-1']\n"
     ]
    }
   ],
   "source": [
    "!python train.py --img 320 --batch 16 --epochs 150 --data D:/code/python/facial-Expression-Recognition/Facial-Emotion-1  --weights yolov5s.pt --cache"
   ]
  },
  {
   "cell_type": "code",
   "execution_count": null,
   "metadata": {},
   "outputs": [],
   "source": [
    "!python detect.py --weights --img 320 --conf 0.5 --source 0"
   ]
  }
 ],
 "metadata": {
  "kernelspec": {
   "display_name": "daily",
   "language": "python",
   "name": "python3"
  },
  "language_info": {
   "codemirror_mode": {
    "name": "ipython",
    "version": 3
   },
   "file_extension": ".py",
   "mimetype": "text/x-python",
   "name": "python",
   "nbconvert_exporter": "python",
   "pygments_lexer": "ipython3",
   "version": "3.10.14"
  }
 },
 "nbformat": 4,
 "nbformat_minor": 2
}
