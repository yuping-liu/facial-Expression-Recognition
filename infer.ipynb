{
 "cells": [
  {
   "cell_type": "code",
   "execution_count": null,
   "id": "c6d4dfc0-26af-4d7e-9dc8-7d2451495eb3",
   "metadata": {},
   "outputs": [],
   "source": [
    "import torch\n",
    "from torch import nn\n",
    "import torch.optim as optim\n",
    "from torch.utils.data import DataLoader\n",
    "from torchvision import datasets, models, transforms\n",
    "from torchvision.transforms import ToTensor\n",
    "from torchvision.datasets import ImageFolder\n",
    "\n",
    "# 加载模型\n",
    "model = models.resnet50(weights=None)  # 这里不加载预训练权重\n",
    "model.fc = torch.nn.Linear(model.fc.in_features, 7)  # 再次定义适合FER-2013的全连接层\n",
    "\n",
    "# 2. 加载本地保存的模型权重\n",
    "model_path = '/hy-tmp/finetuned_model/FER_5epochs.pth'\n",
    "model.load_state_dict(torch.load(model_path, weights_only=True))\n",
    "\n",
    "device = torch.device(\"cuda\" if torch.cuda.is_available() else \"cpu\")\n",
    "model = model.to(device)\n",
    "\n",
    "model.eval()  # 设置为评估模式\n"
   ]
  },
  {
   "cell_type": "code",
   "execution_count": null,
   "id": "1377aa4d-9678-4bba-8ebd-d1e966c3823b",
   "metadata": {},
   "outputs": [],
   "source": [
    "from PIL import Image\n",
    "import torch.nn.functional as F\n",
    "\n",
    "# 定义与训练时相同的预处理方式\n",
    "transform = transforms.Compose([\n",
    "    transforms.Resize((224, 224)),  # 调整图片大小\n",
    "    transforms.Grayscale(num_output_channels=3),\n",
    "    transforms.ToTensor(),  # 转换为Tensor\n",
    "    transforms.Normalize(mean=[0.485, 0.456, 0.406], std=[0.229, 0.224, 0.225])  # 使用 ImageNet 均值和标准差进行归一化\n",
    "])\n"
   ]
  },
  {
   "cell_type": "code",
   "execution_count": null,
   "id": "4c5334df-7017-4a8c-a147-52853e486315",
   "metadata": {},
   "outputs": [],
   "source": [
    "#单张图片推理"
   ]
  },
  {
   "cell_type": "code",
   "execution_count": null,
   "id": "8094b530-74e9-4975-b475-c26b95093035",
   "metadata": {},
   "outputs": [],
   "source": [
    "\n",
    "# 加载一张图片\n",
    "image_path = './data/test/angry/PrivateTest_10131363.jpg'  # 替换为你图片的路径\n",
    "image = Image.open(image_path)\n",
    "\n",
    "\n",
    "# 对图片进行预处理\n",
    "input_image = transform(image).unsqueeze(0)  # 扩展维度，变成[1, C, H, W]（batch size为1）\n",
    "input_image = input_image.to(device)\n",
    "\n",
    "with torch.no_grad():  # 关闭梯度计算，节省内存\n",
    "    output = model(input_image)\n",
    "\n",
    "probabilities = F.softmax(output, dim=1)\n",
    "\n",
    "# 获取每个类别的概率和对应的标签\n",
    "# 假设 emotion_labels 是一个字典，将类别的索引映射到情绪标签\n",
    "emotion_labels = {0: \"angry\", 1: \"disgust\", 2: \"fear\", 3: \"happy\", 4: \"neutral\", 5: \"sad\", 6: \"surprise\"}\n",
    "\n",
    "# 对每个样本获取概率值和对应标签，并按概率降序排列\n",
    "for i in range(probabilities.size(0)):  # 遍历每一个样本（假设batch_size > 1）\n",
    "    sample_probs = probabilities[i]  # 获取每个样本的概率分布\n",
    "    prob_with_labels = [(emotion_labels[j], sample_probs[j].item()) for j in range(len(emotion_labels))]\n",
    "    \n",
    "    # 按概率从高到低排序\n",
    "    sorted_probabilities = sorted(prob_with_labels, key=lambda x: x[1], reverse=True)\n",
    "\n",
    "    print(f\"Sample {i+1}:\")\n",
    "    for emotion, prob in sorted_probabilities:\n",
    "        print(f\"  {emotion}: {prob:.4f}\")\n",
    "    print()\n",
    "\n",
    "\n",
    "# 如果是分类任务，使用 `torch.max` 得到最大概率的类别\n",
    "##_, predicted = torch.max(output, 1)\n",
    "\n",
    "# 打印预测结果\n",
    "##print(f\"Predicted class: {predicted.item()}\")\n",
    "\n"
   ]
  },
  {
   "cell_type": "code",
   "execution_count": null,
   "id": "2854ee58-c064-42e5-a12c-cdadc08e910a",
   "metadata": {},
   "outputs": [],
   "source": [
    "#多张图片推理"
   ]
  },
  {
   "cell_type": "code",
   "execution_count": null,
   "id": "0dac1636-b5f4-4fbd-801e-3ad123baf67e",
   "metadata": {},
   "outputs": [],
   "source": [
    "# 定义与训练时相同的预处理方式\n",
    "transform = transforms.Compose([\n",
    "    transforms.Resize((224, 224)),  # 调整图片大小\n",
    "    transforms.Grayscale(num_output_channels=3),\n",
    "    transforms.ToTensor(),  # 转换为Tensor\n",
    "    transforms.Normalize(mean=[0.485, 0.456, 0.406], std=[0.229, 0.224, 0.225])  # 使用 ImageNet 均值和标准差进行归一化\n",
    "])\n",
    "\n",
    "test_dir = \"./data/test\"\n",
    "test_data = ImageFolder(test_dir, transform=test_transforms)\n",
    "test_loader = DataLoader(test_data, batch_size=64, shuffle=True, pin_memory=True)\n",
    "\n",
    "\n"
   ]
  },
  {
   "cell_type": "code",
   "execution_count": null,
   "id": "ba9e6d6c-73e5-48b4-948c-baf5ab50f65f",
   "metadata": {},
   "outputs": [],
   "source": []
  }
 ],
 "metadata": {
  "kernelspec": {
   "display_name": "Conda (base)",
   "language": "python",
   "name": "base"
  },
  "language_info": {
   "codemirror_mode": {
    "name": "ipython",
    "version": 3
   },
   "file_extension": ".py",
   "mimetype": "text/x-python",
   "name": "python",
   "nbconvert_exporter": "python",
   "pygments_lexer": "ipython3",
   "version": "3.12.1"
  }
 },
 "nbformat": 4,
 "nbformat_minor": 5
}
