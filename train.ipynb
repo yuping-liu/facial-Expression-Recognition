{
 "cells": [
  {
   "cell_type": "code",
   "execution_count": 1,
   "id": "a29e3ad6-324e-46c0-ab63-d3e70f8c8665",
   "metadata": {},
   "outputs": [],
   "source": [
    "import torch\n",
    "from torch import nn\n",
    "import torch.optim as optim\n",
    "from torch.utils.data import DataLoader\n",
    "from torchvision import datasets, models, transforms\n",
    "from torchvision.transforms import ToTensor\n",
    "from torchvision.datasets import ImageFolder\n"
   ]
  },
  {
   "cell_type": "code",
   "execution_count": 2,
   "id": "19597fb7-c2d5-4b62-a461-fda204ba498d",
   "metadata": {},
   "outputs": [],
   "source": [
    "train_transforms = transforms.Compose([\n",
    "    transforms.Resize((224, 224)),  # 调整图片大小为 224x224\n",
    "    transforms.Grayscale(num_output_channels=3),  # 将灰度图像转换为 3 通道的图像\n",
    "    transforms.RandomHorizontalFlip(),  # 随机水平翻转\n",
    "    transforms.ToTensor(),  # 转换为 tensor\n",
    "    transforms.Normalize(mean=[0.485, 0.456, 0.406], std=[0.229, 0.224, 0.225])  # 使用ImageNet均值和标准差\n",
    "])\n",
    "\n",
    "test_transforms = transforms.Compose([\n",
    "    transforms.Resize((224, 224)),\n",
    "    transforms.Grayscale(num_output_channels=3),  # 同样转换为 3 通道\n",
    "    transforms.ToTensor(),\n",
    "    transforms.Normalize(mean=[0.485, 0.456, 0.406], std=[0.229, 0.224, 0.225])\n",
    "])\n",
    "\n",
    "train_dir = \"./data/train\"\n",
    "test_dir = \"./data/test\"\n",
    "train_data = ImageFolder(train_dir, transform=train_transforms)\n",
    "test_data = ImageFolder(test_dir, transform=test_transforms)\n",
    " \n",
    "train_loader = DataLoader(train_data, batch_size=64, shuffle=True, pin_memory=True)\n",
    "test_loader = DataLoader(test_data, batch_size=64, shuffle=True, pin_memory=True)\n",
    "\n",
    "                        "
   ]
  },
  {
   "cell_type": "code",
   "execution_count": 3,
   "id": "44399c21-7337-450a-be48-71dea9ac17d4",
   "metadata": {},
   "outputs": [
    {
     "name": "stdout",
     "output_type": "stream",
     "text": [
      "28710 7179\n"
     ]
    }
   ],
   "source": [
    "print(len(train_data),len(test_data))"
   ]
  },
  {
   "cell_type": "code",
   "execution_count": 4,
   "id": "ea326e68-da4a-41e0-85be-002abed6f19c",
   "metadata": {},
   "outputs": [
    {
     "name": "stdout",
     "output_type": "stream",
     "text": [
      "Shape of X [N, C, H, W]: torch.Size([64, 3, 224, 224])\n",
      "Shape of y: torch.Size([64]) torch.int64\n"
     ]
    }
   ],
   "source": [
    "\n",
    "for X, y in test_loader:\n",
    "    print(f\"Shape of X [N, C, H, W]: {X.shape}\")\n",
    "    print(f\"Shape of y: {y.shape} {y.dtype}\")\n",
    "    break"
   ]
  },
  {
   "cell_type": "code",
   "execution_count": 5,
   "id": "282843b9-0716-4f5b-8e85-79a902df8303",
   "metadata": {},
   "outputs": [],
   "source": [
    "# 加载预训练的 ResNet-50 模型\n",
    "# 1. 初始化 ResNet50 模型结构（没有加载预训练权重）\n",
    "model = models.resnet50(weights=None)  # 初始化模型结构，不加载预训练权重\n",
    "\n",
    "# 2. 加载本地保存的模型权重\n",
    "model_path = '/hy-tmp/model/resnet50.pth'\n",
    "# 使用 weights_only=True 来确保只加载模型的权重\n",
    "model.load_state_dict(torch.load(model_path, weights_only=True))\n",
    "\n",
    "\n",
    "# 修改最后的全连接层，以适应 FER-2013 数据集的情绪分类任务\n",
    "# FER-2013 数据集有 7 个类别\n",
    "model.fc = torch.nn.Linear(model.fc.in_features, 7)\n",
    "\n",
    "# 将模型移动到 GPU（如果可用）\n",
    "device = torch.device(\"cuda\" if torch.cuda.is_available() else \"cpu\")\n",
    "model = model.to(device)"
   ]
  },
  {
   "cell_type": "code",
   "execution_count": 6,
   "id": "53a9954e-451c-4cfd-8b1a-de6d986f02ec",
   "metadata": {},
   "outputs": [],
   "source": [
    "\n",
    "\n",
    "# 定义损失函数\n",
    "criterion = torch.nn.CrossEntropyLoss()\n",
    "\n",
    "# 定义优化器\n",
    "optimizer = optim.Adam(model.parameters(), lr=1e-4)\n"
   ]
  },
  {
   "cell_type": "code",
   "execution_count": 7,
   "id": "e7d04cc7-9dc6-4284-acc9-2d0a0e3a51f6",
   "metadata": {},
   "outputs": [
    {
     "name": "stderr",
     "output_type": "stream",
     "text": [
      "Epoch 1/5: 100%|██████████| 449/449 [06:25<00:00,  1.16batch/s]\n"
     ]
    },
    {
     "name": "stdout",
     "output_type": "stream",
     "text": [
      "Epoch [1/5], Loss: 1.0990, Accuracy: 58.54%\n"
     ]
    },
    {
     "name": "stderr",
     "output_type": "stream",
     "text": [
      "Epoch 2/5: 100%|██████████| 449/449 [06:08<00:00,  1.22batch/s]\n"
     ]
    },
    {
     "name": "stdout",
     "output_type": "stream",
     "text": [
      "Epoch [2/5], Loss: 0.8529, Accuracy: 68.20%\n"
     ]
    },
    {
     "name": "stderr",
     "output_type": "stream",
     "text": [
      "Epoch 3/5: 100%|██████████| 449/449 [07:06<00:00,  1.05batch/s]\n"
     ]
    },
    {
     "name": "stdout",
     "output_type": "stream",
     "text": [
      "Epoch [3/5], Loss: 0.7162, Accuracy: 73.82%\n"
     ]
    },
    {
     "name": "stderr",
     "output_type": "stream",
     "text": [
      "Epoch 4/5: 100%|██████████| 449/449 [07:53<00:00,  1.06s/batch]\n"
     ]
    },
    {
     "name": "stdout",
     "output_type": "stream",
     "text": [
      "Epoch [4/5], Loss: 0.5979, Accuracy: 78.37%\n"
     ]
    },
    {
     "name": "stderr",
     "output_type": "stream",
     "text": [
      "Epoch 5/5: 100%|██████████| 449/449 [07:08<00:00,  1.05batch/s]"
     ]
    },
    {
     "name": "stdout",
     "output_type": "stream",
     "text": [
      "Epoch [5/5], Loss: 0.4647, Accuracy: 83.47%\n"
     ]
    },
    {
     "name": "stderr",
     "output_type": "stream",
     "text": [
      "\n"
     ]
    }
   ],
   "source": [
    "from tqdm import tqdm  # 导入tqdm库\n",
    "\n",
    "num_epochs = 5\n",
    "# 假设你已经有一个模型和优化器，并且训练和测试的数据加载器已经准备好\n",
    "for epoch in range(num_epochs):  # 循环所有的epoch\n",
    "    model.train()  # 设置模型为训练模式\n",
    "    running_loss = 0.0\n",
    "    correct = 0\n",
    "    total = 0\n",
    "    \n",
    "    # 使用tqdm包装train_loader，显示进度条\n",
    "    # train_loader是你用于训练的DataLoader\n",
    "    for i, (inputs, labels) in enumerate(tqdm(train_loader, desc=f\"Epoch {epoch+1}/{num_epochs}\", unit=\"batch\")):\n",
    "        # 清空梯度\n",
    "        optimizer.zero_grad()\n",
    "        \n",
    "        # 将输入数据和标签放到设备上\n",
    "        inputs, labels = inputs.to(device), labels.to(device)\n",
    "        \n",
    "        # 前向传播\n",
    "        outputs = model(inputs)\n",
    "        \n",
    "        # 计算损失\n",
    "        loss = criterion(outputs, labels)\n",
    "        \n",
    "        # 反向传播\n",
    "        loss.backward()\n",
    "        \n",
    "        # 更新模型参数\n",
    "        optimizer.step()\n",
    "        \n",
    "        # 累加损失\n",
    "        running_loss += loss.item()\n",
    "        \n",
    "        # 获取预测的标签\n",
    "        _, predicted = torch.max(outputs, 1)\n",
    "        \n",
    "        # 累加正确预测的样本数\n",
    "        total += labels.size(0)\n",
    "        correct += (predicted == labels).sum().item()\n",
    "    \n",
    "    # 输出当前epoch的平均损失和准确率\n",
    "    avg_loss = running_loss / len(train_loader)\n",
    "    accuracy = (correct / total) * 100\n",
    "    print(f\"Epoch [{epoch+1}/{num_epochs}], Loss: {avg_loss:.4f}, Accuracy: {accuracy:.2f}%\")\n"
   ]
  },
  {
   "cell_type": "code",
   "execution_count": null,
   "id": "f41e73b4-bb2c-402e-bd63-d74e814dd6a3",
   "metadata": {},
   "outputs": [],
   "source": []
  },
  {
   "cell_type": "code",
   "execution_count": 8,
   "id": "f513c78a-e7dd-4b43-b729-c915d7fe7f9e",
   "metadata": {},
   "outputs": [],
   "source": [
    "# 保存模型\n",
    "torch.save(model.state_dict(), './finetuned_model/FER1.pth')\n"
   ]
  },
  {
   "cell_type": "code",
   "execution_count": null,
   "id": "811a9661-296b-4238-a985-16d3065097d4",
   "metadata": {},
   "outputs": [],
   "source": []
  },
  {
   "cell_type": "code",
   "execution_count": null,
   "id": "542bdf66-610e-43a2-aafd-7fb53ef8c05c",
   "metadata": {},
   "outputs": [],
   "source": []
  }
 ],
 "metadata": {
  "kernelspec": {
   "display_name": "Conda (base)",
   "language": "python",
   "name": "base"
  },
  "language_info": {
   "codemirror_mode": {
    "name": "ipython",
    "version": 3
   },
   "file_extension": ".py",
   "mimetype": "text/x-python",
   "name": "python",
   "nbconvert_exporter": "python",
   "pygments_lexer": "ipython3",
   "version": "3.12.1"
  }
 },
 "nbformat": 4,
 "nbformat_minor": 5
}
